{
 "cells": [
  {
   "cell_type": "markdown",
   "metadata": {},
   "source": [
    "# Sortowanie bąbelkowe"
   ]
  },
  {
   "cell_type": "markdown",
   "metadata": {},
   "source": [
    "https://pl.wikipedia.org/wiki/Sortowanie_b%C4%85belkowe"
   ]
  },
  {
   "cell_type": "markdown",
   "metadata": {},
   "source": [
    "prosta metoda sortowania o złożoności czasowej O ( n 2 ) { O(n^{2}) i pamięciowej O ( 1 )  O(1). "
   ]
  },
  {
   "cell_type": "code",
   "execution_count": 1,
   "metadata": {},
   "outputs": [],
   "source": [
    "x = [1,7,2,1,5,1]"
   ]
  },
  {
   "cell_type": "code",
   "execution_count": 2,
   "metadata": {},
   "outputs": [],
   "source": [
    "def bobel_sort(x):\n",
    "    n = len(x)\n",
    "    while True:\n",
    "        for i in range(len(x)-1):\n",
    "            if x[i] > x[i+1]:\n",
    "                x[i], x[i+1] = x[i+1], x[i]\n",
    "        n = n-1\n",
    "        if n == 1:\n",
    "            return x"
   ]
  },
  {
   "cell_type": "code",
   "execution_count": 3,
   "metadata": {},
   "outputs": [
    {
     "data": {
      "text/plain": [
       "[1, 1, 1, 2, 5, 7]"
      ]
     },
     "execution_count": 3,
     "metadata": {},
     "output_type": "execute_result"
    }
   ],
   "source": [
    "bobel_sort(x)"
   ]
  },
  {
   "cell_type": "markdown",
   "metadata": {},
   "source": [
    "# Sortowanie przez wstawianie"
   ]
  },
  {
   "cell_type": "code",
   "execution_count": 4,
   "metadata": {},
   "outputs": [],
   "source": [
    "x = [1,7,2,1,5,1]"
   ]
  },
  {
   "cell_type": "code",
   "execution_count": 5,
   "metadata": {},
   "outputs": [],
   "source": [
    "def insertion_sort(x):\n",
    "    n = 0\n",
    "    while n < len(x):\n",
    "        i = n\n",
    "        while i > 0 and x[i-1] > x[i]:\n",
    "            x[i], x[i-1] = x[i-1], x[i]\n",
    "            i -= 1\n",
    "        n += 1\n",
    "        if n == len(x) - 1:\n",
    "            return x"
   ]
  },
  {
   "cell_type": "code",
   "execution_count": 6,
   "metadata": {},
   "outputs": [
    {
     "data": {
      "text/plain": [
       "[1, 1, 2, 5, 7, 1]"
      ]
     },
     "execution_count": 6,
     "metadata": {},
     "output_type": "execute_result"
    }
   ],
   "source": [
    "insertion_sort(x)"
   ]
  },
  {
   "cell_type": "markdown",
   "metadata": {},
   "source": [
    "# Sortowanie przez scalanie"
   ]
  },
  {
   "cell_type": "markdown",
   "metadata": {},
   "source": [
    "    Procedura scalania dwóch ciągów A[1..n] i B[1..m] do ciągu C[1..m+n]\n",
    "   \n",
    "    Utwórz wskaźniki na początki ciągów A i B → i=1, j=1\n",
    "    Jeżeli ciąg A wyczerpany (i>n), dołącz pozostałe elementy ciągu B do C i zakończ pracę.\n",
    "    Jeżeli ciąg B wyczerpany (j>m), dołącz pozostałe elementy ciągu A do C i zakończ pracę.\n",
    "    Jeżeli A[i] ≤ B[j] dołącz A[i] do C i zwiększ i o jeden, w przeciwnym przypadku dołącz B[j] do C i zwiększ j o jeden\n",
    "    Powtarzaj od kroku 2 aż wszystkie wyrazy A i B trafią do C"
   ]
  },
  {
   "cell_type": "code",
   "execution_count": 7,
   "metadata": {},
   "outputs": [],
   "source": [
    "x = [1,7,2,1,5,6,12,1]"
   ]
  },
  {
   "cell_type": "code",
   "execution_count": 8,
   "metadata": {},
   "outputs": [],
   "source": [
    "def merge_sort(x):\n",
    "    if len(x)>1:\n",
    "        # podzial na pół\n",
    "        mid = int(len(x)/2)\n",
    "        left_half = x[:mid]\n",
    "        right_half = x[mid:]\n",
    "        print(left_half)\n",
    "        print(right_half)\n",
    "        # podzial na pojedyncze liczby\n",
    "        merge_sort(left_half)\n",
    "        merge_sort(right_half)\n",
    "        \n",
    "        # wlasciwy algorytm\n",
    "        i = 0\n",
    "        j = 0\n",
    "        k = 0\n",
    "        while i < len(left_half) and j < len(right_half):\n",
    "            if left_half[i] < right_half[j]:\n",
    "                x[k] = left_half[i]\n",
    "                i += 1\n",
    "            else:\n",
    "                x[k] = right_half[j]\n",
    "                j += 1\n",
    "            k += 1\n",
    "            \n",
    "        while i < len(left_half):\n",
    "            x[k] = left_half[i]\n",
    "            i += 1\n",
    "            k += 1\n",
    "                \n",
    "        while j < len(right_half):\n",
    "            x[k] = right_half[j]\n",
    "            j += 1\n",
    "            k += 1\n",
    "        print(x)\n",
    "        "
   ]
  },
  {
   "cell_type": "code",
   "execution_count": 9,
   "metadata": {},
   "outputs": [
    {
     "name": "stdout",
     "output_type": "stream",
     "text": [
      "[1, 7, 2, 1]\n",
      "[5, 6, 12, 1]\n",
      "[1, 7]\n",
      "[2, 1]\n",
      "[1]\n",
      "[7]\n",
      "[1, 7]\n",
      "[2]\n",
      "[1]\n",
      "[1, 2]\n",
      "[1, 1, 2, 7]\n",
      "[5, 6]\n",
      "[12, 1]\n",
      "[5]\n",
      "[6]\n",
      "[5, 6]\n",
      "[12]\n",
      "[1]\n",
      "[1, 12]\n",
      "[1, 5, 6, 12]\n",
      "[1, 1, 1, 2, 5, 6, 7, 12]\n"
     ]
    }
   ],
   "source": [
    "merge_sort(x)"
   ]
  },
  {
   "cell_type": "code",
   "execution_count": null,
   "metadata": {},
   "outputs": [],
   "source": []
  },
  {
   "cell_type": "code",
   "execution_count": null,
   "metadata": {},
   "outputs": [],
   "source": []
  }
 ],
 "metadata": {
  "kernelspec": {
   "display_name": "Python 3",
   "language": "python",
   "name": "python3"
  },
  "language_info": {
   "codemirror_mode": {
    "name": "ipython",
    "version": 3
   },
   "file_extension": ".py",
   "mimetype": "text/x-python",
   "name": "python",
   "nbconvert_exporter": "python",
   "pygments_lexer": "ipython3",
   "version": "3.6.7"
  }
 },
 "nbformat": 4,
 "nbformat_minor": 2
}
