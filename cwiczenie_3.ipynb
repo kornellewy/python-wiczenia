{
 "cells": [
  {
   "cell_type": "markdown",
   "metadata": {},
   "source": [
    "https://python.g-node.org/python-summerschool-2011/_media/materials/advanced_python/exercises_and_solutions.pdf"
   ]
  },
  {
   "cell_type": "markdown",
   "metadata": {},
   "source": [
    "D1 write a decorator which wraps functions to log function arguments and the return value on each call.\n",
    "Provide support for both positional and named arguments (your wrapper function should take both \n",
    "*args and **kwargs and print them both):"
   ]
  },
  {
   "cell_type": "code",
   "execution_count": 183,
   "metadata": {},
   "outputs": [],
   "source": [
    "import inspect\n",
    "\n",
    "def wrap_fun(fun):\n",
    "    # we print function name\n",
    "    def wrap_fun(*args, **kwargs):\n",
    "        # now we get the arguments\n",
    "        fun_args = inspect.signature(fun).bind(*args, **kwargs).arguments\n",
    "        # convert it to long str\n",
    "        fun_argsgs_list = list(i for i in fun_args.items())\n",
    "        fun_argsgs_list = fun_argsgs_list[0][1]\n",
    "        print(\"you caled:\",fun.__name__,fun_argsgs_list) \n",
    "        print(\"function return: \" ,fun(*args, **kwargs))\n",
    "        return fun(*args, **kwargs)\n",
    "    return wrap_fun\n",
    "\n",
    "# test function\n",
    "@wrap_fun\n",
    "def func(*args, **kwargs):\n",
    "    return 3 + len(args) "
   ]
  },
  {
   "cell_type": "code",
   "execution_count": 184,
   "metadata": {},
   "outputs": [
    {
     "name": "stdout",
     "output_type": "stream",
     "text": [
      "you caled: func (1, 1, 4, 1)\n",
      "function return:  7\n"
     ]
    },
    {
     "data": {
      "text/plain": [
       "7"
      ]
     },
     "execution_count": 184,
     "metadata": {},
     "output_type": "execute_result"
    }
   ],
   "source": [
    "func(1,1,4,1)"
   ]
  },
  {
   "cell_type": "markdown",
   "metadata": {},
   "source": [
    "D2 Write a decorator to cache function invocation results. Store pairs\n",
    "arg:result\n",
    "in a dictionary in an\n",
    "attribute of the function object. The function being memoized is:"
   ]
  },
  {
   "cell_type": "code",
   "execution_count": 296,
   "metadata": {},
   "outputs": [],
   "source": [
    "dupa = {}"
   ]
  },
  {
   "cell_type": "code",
   "execution_count": 297,
   "metadata": {},
   "outputs": [],
   "source": [
    "import inspect\n",
    "\n",
    "def wrap_fun(fun):\n",
    "    # we print function name\n",
    "    fun.cache = {}\n",
    "    def wrap_fun(*args):\n",
    "        # now we get the argument\n",
    "        fun_args = inspect.signature(fun).bind(*args).arguments\n",
    "        fun_argsgs_list = list(i for i in fun_args.items())\n",
    "        fun_arg = fun_argsgs_list[0][1]\n",
    "        try:\n",
    "            ans = fun.cache[fun_arg]\n",
    "        except KeyError:\n",
    "            ans = fun.cache[fun_arg] = fun(*args)\n",
    "        dupa.update(fun.cache) \n",
    "        return fun(*args)\n",
    "    return wrap_fun"
   ]
  },
  {
   "cell_type": "code",
   "execution_count": 298,
   "metadata": {},
   "outputs": [],
   "source": [
    "# test function\n",
    "@wrap_fun\n",
    "def fibonacii(n):\n",
    "    # we check if n is larger then 0\n",
    "    assert n>=0\n",
    "    if n < 2:\n",
    "        return n\n",
    "    else:\n",
    "        return (fibonacii(n-1)+fibonacii(n-2))"
   ]
  },
  {
   "cell_type": "code",
   "execution_count": 299,
   "metadata": {},
   "outputs": [
    {
     "data": {
      "text/plain": [
       "13"
      ]
     },
     "execution_count": 299,
     "metadata": {},
     "output_type": "execute_result"
    }
   ],
   "source": [
    "fibonacii(7)"
   ]
  },
  {
   "cell_type": "code",
   "execution_count": 300,
   "metadata": {},
   "outputs": [
    {
     "data": {
      "text/plain": [
       "(7, 13)"
      ]
     },
     "execution_count": 300,
     "metadata": {},
     "output_type": "execute_result"
    }
   ],
   "source": [
    "dupa = list(dupa.items())\n",
    "dupa[-1]"
   ]
  },
  {
   "cell_type": "code",
   "execution_count": 301,
   "metadata": {},
   "outputs": [],
   "source": [
    "def numbers(n):\n",
    "    for i in range(n):\n",
    "        yield i"
   ]
  },
  {
   "cell_type": "code",
   "execution_count": 226,
   "metadata": {},
   "outputs": [],
   "source": [
    "x = numbers(12) "
   ]
  },
  {
   "cell_type": "code",
   "execution_count": 227,
   "metadata": {},
   "outputs": [
    {
     "name": "stdout",
     "output_type": "stream",
     "text": [
      "0\n",
      "1\n",
      "2\n",
      "3\n",
      "4\n",
      "5\n",
      "6\n",
      "7\n",
      "8\n",
      "9\n",
      "10\n",
      "11\n"
     ]
    }
   ],
   "source": [
    "for i in x:\n",
    "    print(i)"
   ]
  },
  {
   "cell_type": "code",
   "execution_count": 232,
   "metadata": {},
   "outputs": [
    {
     "ename": "StopIteration",
     "evalue": "",
     "output_type": "error",
     "traceback": [
      "\u001b[1;31m---------------------------------------------------------------------------\u001b[0m",
      "\u001b[1;31mStopIteration\u001b[0m                             Traceback (most recent call last)",
      "\u001b[1;32m<ipython-input-232-92de4e9f6b1e>\u001b[0m in \u001b[0;36m<module>\u001b[1;34m\u001b[0m\n\u001b[1;32m----> 1\u001b[1;33m \u001b[0mnext\u001b[0m\u001b[1;33m(\u001b[0m\u001b[0mx\u001b[0m\u001b[1;33m)\u001b[0m\u001b[1;33m\u001b[0m\u001b[1;33m\u001b[0m\u001b[0m\n\u001b[0m",
      "\u001b[1;31mStopIteration\u001b[0m: "
     ]
    }
   ],
   "source": [
    "next(x)"
   ]
  },
  {
   "cell_type": "code",
   "execution_count": null,
   "metadata": {},
   "outputs": [],
   "source": []
  }
 ],
 "metadata": {
  "kernelspec": {
   "display_name": "Python 3",
   "language": "python",
   "name": "python3"
  },
  "language_info": {
   "codemirror_mode": {
    "name": "ipython",
    "version": 3
   },
   "file_extension": ".py",
   "mimetype": "text/x-python",
   "name": "python",
   "nbconvert_exporter": "python",
   "pygments_lexer": "ipython3",
   "version": "3.6.7"
  }
 },
 "nbformat": 4,
 "nbformat_minor": 2
}
