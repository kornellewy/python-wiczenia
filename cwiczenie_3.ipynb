{
 "cells": [
  {
   "cell_type": "code",
   "execution_count": 1,
   "metadata": {},
   "outputs": [],
   "source": [
    "# https://python.g-node.org/python-summerschool-2011/_media/materials/advanced_python/exercises_and_solutions.pdf"
   ]
  },
  {
   "cell_type": "code",
   "execution_count": 2,
   "metadata": {},
   "outputs": [],
   "source": [
    "# D1 write a decorator which wraps functions to log function arguments and the return value on each call.\n",
    "# Provide support for both positional and named arguments (your wrapper function should take both\n",
    "# *args\n",
    "# and\n",
    "# **kwargs\n",
    "# and print them both):"
   ]
  },
  {
   "cell_type": "code",
   "execution_count": 74,
   "metadata": {},
   "outputs": [],
   "source": [
    "import inspect\n",
    "\n",
    "def wrap_fun(fun):\n",
    "    # we print function name\n",
    "    def wrap_fun(*args, **kwargs):\n",
    "        # now we get the arguments\n",
    "        fun_args = inspect.signature(fun).bind(*args, **kwargs).arguments\n",
    "        # convert it to long str\n",
    "        fun_argsgs_list = list(i for i in fun_args.items())\n",
    "        fun_argsgs_list = fun_argsgs_list[0][1]\n",
    "        print(\"you caled:\",fun.__name__,fun_argsgs_list) \n",
    "        print(\"function return: \" ,fun(*args, **kwargs))\n",
    "        return fun(*args, **kwargs)\n",
    "    return wrap_fun\n",
    "\n",
    "# test function\n",
    "@wrap_fun\n",
    "def func(*args, **kwargs):\n",
    "    return 3 + len(args) "
   ]
  },
  {
   "cell_type": "code",
   "execution_count": 75,
   "metadata": {},
   "outputs": [
    {
     "name": "stdout",
     "output_type": "stream",
     "text": [
      "you caled: func (1, 1, 4, 1)\n",
      "function return:  7\n"
     ]
    },
    {
     "data": {
      "text/plain": [
       "7"
      ]
     },
     "execution_count": 75,
     "metadata": {},
     "output_type": "execute_result"
    }
   ],
   "source": [
    "func(1,1,4,1)"
   ]
  },
  {
   "cell_type": "code",
   "execution_count": null,
   "metadata": {},
   "outputs": [],
   "source": []
  },
  {
   "cell_type": "code",
   "execution_count": null,
   "metadata": {},
   "outputs": [],
   "source": []
  },
  {
   "cell_type": "code",
   "execution_count": null,
   "metadata": {},
   "outputs": [],
   "source": []
  }
 ],
 "metadata": {
  "kernelspec": {
   "display_name": "Python 3",
   "language": "python",
   "name": "python3"
  },
  "language_info": {
   "codemirror_mode": {
    "name": "ipython",
    "version": 3
   },
   "file_extension": ".py",
   "mimetype": "text/x-python",
   "name": "python",
   "nbconvert_exporter": "python",
   "pygments_lexer": "ipython3",
   "version": "3.6.7"
  }
 },
 "nbformat": 4,
 "nbformat_minor": 2
}
